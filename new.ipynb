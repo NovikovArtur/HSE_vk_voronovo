{
 "cells": [
  {
   "cell_type": "code",
   "execution_count": 1,
   "metadata": {},
   "outputs": [
    {
     "ename": "NameError",
     "evalue": "name 'TOKEN' is not defined",
     "output_type": "error",
     "traceback": [
      "\u001b[1;31m---------------------------------------------------------------------------\u001b[0m",
      "\u001b[1;31mNameError\u001b[0m                                 Traceback (most recent call last)",
      "Cell \u001b[1;32mIn[1], line 6\u001b[0m\n\u001b[0;32m      3\u001b[0m \u001b[38;5;28;01mimport\u001b[39;00m \u001b[38;5;21;01mvk_api\u001b[39;00m\n\u001b[0;32m      4\u001b[0m \u001b[38;5;28;01mimport\u001b[39;00m \u001b[38;5;21;01mcsv\u001b[39;00m\n\u001b[1;32m----> 6\u001b[0m vk_token \u001b[38;5;241m=\u001b[39m \u001b[43mTOKEN\u001b[49m\n\u001b[0;32m      8\u001b[0m \u001b[38;5;66;03m# начинаем сессию\u001b[39;00m\n\u001b[0;32m     10\u001b[0m vk_session \u001b[38;5;241m=\u001b[39m vk_api\u001b[38;5;241m.\u001b[39mVkApi(token\u001b[38;5;241m=\u001b[39mvk_token)\n",
      "\u001b[1;31mNameError\u001b[0m: name 'TOKEN' is not defined"
     ]
    }
   ],
   "source": [
    "# импортируем вк апи и токен\n",
    "\n",
    "import vk_api\n",
    "import csv\n",
    "\n",
    "vk_token = TOKEN\n",
    "\n",
    "# начинаем сессию\n",
    "\n",
    "vk_session = vk_api.VkApi(token=vk_token)\n",
    "vk = vk_session.get_api()\n",
    "\n",
    "# создаем лист с нужными нам полями, запрашивая 1000 строк из Москвы (city_id=1)\n",
    "\n",
    "for_print = vk.users.search(city_id=1, count=1000, sort=1, fields='bdate, sex')['items']"
   ]
  },
  {
   "cell_type": "code",
   "execution_count": 2,
   "metadata": {},
   "outputs": [
    {
     "ename": "NameError",
     "evalue": "name 'for_print' is not defined",
     "output_type": "error",
     "traceback": [
      "\u001b[1;31m---------------------------------------------------------------------------\u001b[0m",
      "\u001b[1;31mNameError\u001b[0m                                 Traceback (most recent call last)",
      "Cell \u001b[1;32mIn[2], line 3\u001b[0m\n\u001b[0;32m      1\u001b[0m \u001b[38;5;66;03m# для каждой строки:\u001b[39;00m\n\u001b[1;32m----> 3\u001b[0m \u001b[38;5;28;01mfor\u001b[39;00m i \u001b[38;5;129;01min\u001b[39;00m \u001b[43mfor_print\u001b[49m:\n\u001b[0;32m      4\u001b[0m     \u001b[38;5;28;01mif\u001b[39;00m \u001b[38;5;124m'\u001b[39m\u001b[38;5;124mbdate\u001b[39m\u001b[38;5;124m'\u001b[39m \u001b[38;5;129;01min\u001b[39;00m i:\n\u001b[0;32m      5\u001b[0m         arr \u001b[38;5;241m=\u001b[39m i[\u001b[38;5;124m'\u001b[39m\u001b[38;5;124mbdate\u001b[39m\u001b[38;5;124m'\u001b[39m]\u001b[38;5;241m.\u001b[39msplit(\u001b[38;5;124m'\u001b[39m\u001b[38;5;124m.\u001b[39m\u001b[38;5;124m'\u001b[39m)\n",
      "\u001b[1;31mNameError\u001b[0m: name 'for_print' is not defined"
     ]
    }
   ],
   "source": [
    "# для каждой строки:\n",
    "\n",
    "for i in for_print:\n",
    "\n",
    "    # если у пользователя указана дата рождения:\n",
    "\n",
    "    if 'bdate' in i:\n",
    "\n",
    "        # вытаскиваем в массив день дату и год рождения, и, если есть год:\n",
    "\n",
    "        arr = i['bdate'].split('.')\n",
    "        if len(arr) == 3:\n",
    "\n",
    "            # записываем его в новый столбец\n",
    "\n",
    "            i['birth'] = arr[2]"
   ]
  },
  {
   "cell_type": "code",
   "execution_count": 83,
   "metadata": {},
   "outputs": [],
   "source": [
    "# заносим названия столцов\n",
    "\n",
    "keys = for_print[0].keys()\n",
    "\n",
    "# конвертируем лист в csv-файл\n",
    "\n",
    "with open('people.csv', 'w', newline='', encoding=\"utf-8\") as output_file:\n",
    "    dict_writer = csv.DictWriter(output_file, keys)\n",
    "    dict_writer.writeheader()\n",
    "    dict_writer.writerows(for_print)"
   ]
  }
 ],
 "metadata": {
  "kernelspec": {
   "display_name": "Python 3",
   "language": "python",
   "name": "python3"
  },
  "language_info": {
   "codemirror_mode": {
    "name": "ipython",
    "version": 3
   },
   "file_extension": ".py",
   "mimetype": "text/x-python",
   "name": "python",
   "nbconvert_exporter": "python",
   "pygments_lexer": "ipython3",
   "version": "3.9.0"
  }
 },
 "nbformat": 4,
 "nbformat_minor": 2
}
