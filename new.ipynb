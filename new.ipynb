{
 "cells": [
  {
   "cell_type": "code",
   "execution_count": null,
   "metadata": {},
   "outputs": [],
   "source": [
    "# импортируем вк апи и токен\n",
    "\n",
    "import vk_api\n",
    "import csv\n",
    "\n",
    "vk_token = TOKEN\n",
    "\n",
    "# начинаем сессию\n",
    "\n",
    "vk_session = vk_api.VkApi(token=vk_token)\n",
    "vk = vk_session.get_api()\n",
    "\n",
    "# создаем лист с нужными нам полями, запрашивая 1000 строк из Москвы (city_id=1)\n",
    "\n",
    "for_print = vk.users.search(city_id=1, count=1000, sort=1, fields='bdate, sex')['items']"
   ]
  },
  {
   "cell_type": "code",
   "execution_count": null,
   "metadata": {},
   "outputs": [],
   "source": [
    "# для каждой строки:\n",
    "\n",
    "for i in for_print:\n",
    "\n",
    "    # если у пользователя указана дата рождения:\n",
    "\n",
    "    if 'bdate' in i:\n",
    "\n",
    "        # вытаскиваем в массив день дату и год рождения, и, если есть год:\n",
    "\n",
    "        arr = i['bdate'].split('.')\n",
    "        if len(arr) == 3:\n",
    "\n",
    "            # записываем его в новый столбец\n",
    "\n",
    "            i['birth'] = arr[2]"
   ]
  },
  {
   "cell_type": "code",
   "execution_count": 83,
   "metadata": {},
   "outputs": [],
   "source": [
    "# заносим названия столцов\n",
    "\n",
    "keys = for_print[0].keys()\n",
    "\n",
    "# конвертируем лист в csv-файл\n",
    "\n",
    "with open('people.csv', 'w', newline='', encoding=\"utf-8\") as output_file:\n",
    "    dict_writer = csv.DictWriter(output_file, keys)\n",
    "    dict_writer.writeheader()\n",
    "    dict_writer.writerows(for_print)"
   ]
  }
 ],
 "metadata": {
  "kernelspec": {
   "display_name": "Python 3",
   "language": "python",
   "name": "python3"
  },
  "language_info": {
   "codemirror_mode": {
    "name": "ipython",
    "version": 3
   },
   "file_extension": ".py",
   "mimetype": "text/x-python",
   "name": "python",
   "nbconvert_exporter": "python",
   "pygments_lexer": "ipython3",
   "version": "3.9.0"
  }
 },
 "nbformat": 4,
 "nbformat_minor": 2
}
